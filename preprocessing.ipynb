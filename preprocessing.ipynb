{
  "nbformat": 4,
  "nbformat_minor": 0,
  "metadata": {
    "colab": {
      "name": "preprocessing.ipynb",
      "provenance": [],
      "mount_file_id": "1UqGH5XOioIpqjXdWlquLMpALuBMTIF-n",
      "authorship_tag": "ABX9TyOT5kxDDl3RUrPwaVCDQV34",
      "include_colab_link": true
    },
    "kernelspec": {
      "name": "python3",
      "display_name": "Python 3"
    }
  },
  "cells": [
    {
      "cell_type": "markdown",
      "metadata": {
        "id": "view-in-github",
        "colab_type": "text"
      },
      "source": [
        "<a href=\"https://colab.research.google.com/github/shirataki-takipon/image_classification_traning/blob/reference/preprocessing.ipynb\" target=\"_parent\"><img src=\"https://colab.research.google.com/assets/colab-badge.svg\" alt=\"Open In Colab\"/></a>"
      ]
    },
    {
      "cell_type": "code",
      "metadata": {
        "id": "y_nvocXoREay",
        "colab_type": "code",
        "colab": {}
      },
      "source": [
        "import sys\n",
        "sys.path.append('/content/drive/My Drive/image_classification_traning')\n",
        "import ic_module as ic\n",
        "import os.path as op"
      ],
      "execution_count": 1,
      "outputs": []
    },
    {
      "cell_type": "markdown",
      "metadata": {
        "id": "FM-xgdEhUzhC",
        "colab_type": "text"
      },
      "source": [
        "前処理"
      ]
    },
    {
      "cell_type": "code",
      "metadata": {
        "id": "ralz9j5jUbwx",
        "colab_type": "code",
        "colab": {
          "base_uri": "https://localhost:8080/",
          "height": 119
        },
        "outputId": "f27f4d50-2532-474c-bca9-e05ab48348db"
      },
      "source": [
        "i = 0\n",
        "for filename in ic.FileNames :\n",
        "    # ディレクトリ名入力\n",
        "    while True :\n",
        "        dirname = input(\">>「\" + ic.ClassNames[i] + \"」の画像のあるディレクトリ ： \")\n",
        "        if op.isdir(dirname) :\n",
        "            break\n",
        "        print(\">> そのディレクトリは存在しません！\")\n",
        "\n",
        "    # 関数実行\n",
        "    ic.PreProcess(dirname, filename, var_amount=3)\n",
        "    i += 1"
      ],
      "execution_count": 2,
      "outputs": [
        {
          "output_type": "stream",
          "text": [
            ">>「堀北真希」の画像のあるディレクトリ ： /content/drive/My Drive/image_classification_traning/face/Horikita_Maki\n",
            ">> /content/drive/My Drive/image_classification_traning/face/Horikita_Makiから108個のファイル読み込み成功\n",
            ">>「松岡茉優」の画像のあるディレクトリ ： /content/drive/My Drive/image_classification_traning/face/Matsuoka_Mayu\n",
            ">> /content/drive/My Drive/image_classification_traning/face/Matsuoka_Mayuから68個のファイル読み込み成功\n",
            ">>「古畑奈和」の画像のあるディレクトリ ： /content/drive/My Drive/image_classification_traning/face/Furuhata_Nao\n",
            ">> /content/drive/My Drive/image_classification_traning/face/Furuhata_Naoから164個のファイル読み込み成功\n"
          ],
          "name": "stdout"
        }
      ]
    },
    {
      "cell_type": "code",
      "metadata": {
        "id": "-g4R4aNfWHbg",
        "colab_type": "code",
        "colab": {}
      },
      "source": [
        ""
      ],
      "execution_count": null,
      "outputs": []
    }
  ]
}