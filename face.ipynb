{
  "nbformat": 4,
  "nbformat_minor": 0,
  "metadata": {
    "colab": {
      "name": "face.ipynb",
      "provenance": [],
      "mount_file_id": "1Jp83Z05d9n3L0gAm9QLN1bBbewyBXFui",
      "authorship_tag": "ABX9TyMMW0jAsV+DWEGMd5XYAC+H",
      "include_colab_link": true
    },
    "kernelspec": {
      "name": "python3",
      "display_name": "Python 3"
    }
  },
  "cells": [
    {
      "cell_type": "markdown",
      "metadata": {
        "id": "view-in-github",
        "colab_type": "text"
      },
      "source": [
        "<a href=\"https://colab.research.google.com/github/shirataki-takipon/image_classification_traning/blob/master/face.ipynb\" target=\"_parent\"><img src=\"https://colab.research.google.com/assets/colab-badge.svg\" alt=\"Open In Colab\"/></a>"
      ]
    },
    {
      "cell_type": "code",
      "metadata": {
        "id": "jVEUn4G9n2Vz",
        "colab_type": "code",
        "colab": {}
      },
      "source": [
        "import cv2\n",
        "import matplotlib.pyplot as plt\n",
        "import sys\n",
        "from keras.preprocessing.image import array_to_img,img_to_array,load_img\n",
        "import numpy as np\n",
        "import os"
      ],
      "execution_count": 7,
      "outputs": []
    },
    {
      "cell_type": "code",
      "metadata": {
        "id": "_5A4TvXSn3mg",
        "colab_type": "code",
        "colab": {
          "base_uri": "https://localhost:8080/",
          "height": 1000
        },
        "outputId": "64ce59dc-02ca-41bb-a3b4-8fd76ffe1ce5"
      },
      "source": [
        "cascade_path=\"/content/drive/My Drive/image_classification_traning/haarcascade_frontalface_alt.xml\"\n",
        "Mydrive = \"/content/drive/My Drive/image_classification_traning\"\n",
        "\n",
        "X_train=[]\n",
        "Y_train=[]\n",
        "\n",
        "X_test=[]\n",
        "Y_test=[]\n",
        "\n",
        "l=os.listdir(Mydrive + \"/original_data\")\n",
        "for i in l:\n",
        "    result_dir=i.split(\".\")[0]\n",
        "    print(result_dir)\n",
        "    os.makedirs(Mydrive+\"/face/\"+result_dir, exist_ok=True)\n",
        "\n",
        "    m=os.listdir(Mydrive+\"/original_data/\"+i)\n",
        "    n=0\n",
        "    for target_file in m:\n",
        "        origin_image=(Mydrive + \"/original_data/\"+i+\"/\"+target_file)\n",
        "        print(origin_image)\n",
        "        cascade=cv2.CascadeClassifier(cascade_path)\n",
        "        image=cv2.imread(origin_image)\n",
        "\n",
        "        image=cv2.cvtColor(image,cv2.COLOR_BGR2RGB)\n",
        "        gray=cv2.cvtColor(image,cv2.COLOR_RGB2GRAY)\n",
        "\n",
        "        facerect=cascade.detectMultiScale(gray,scaleFactor=1.1,minNeighbors=1,minSize=(10,10))\n",
        "\n",
        "        for x,y,w,h in facerect:\n",
        "            face=gray[y:y+h,x:x+w]\n",
        "            face=cv2.resize(face,(128,128))\n",
        "            save_path=Mydrive + \"/face/\"+result_dir+\"/image_\"+str(n)+\".jpg\"\n",
        "            cv2.imwrite(save_path,face)\n",
        "            n=n+1\n",
        "            face=cv2.flip(face,1)\n",
        "            save_path=Mydrive + \"/face/\"+result_dir+\"/image_\"+str(n)+\".jpg\"\n",
        "            cv2.imwrite(save_path,face)\n",
        "            n=n+1\n",
        "            face=cv2.blur(face,(10,10))\n",
        "            save_path=Mydrive + \"/face/\"+result_dir+\"/image_\"+str(n)+\".jpg\"\n",
        "            cv2.imwrite(save_path,face)\n",
        "            n=n+1\n",
        "            face=cv2.blur(cv2.flip(face,1),(10,10))\n",
        "            save_path=Mydrive + \"/face/\"+result_dir+\"/image_\"+str(n)+\".jpg\"\n",
        "            cv2.imwrite(save_path,face)\n",
        "            n=n+1"
      ],
      "execution_count": 10,
      "outputs": [
        {
          "output_type": "stream",
          "text": [
            "\n",
            "Horikita_Maki\n",
            "/content/drive/My Drive/image_classification_traning/original_data/Horikita_Maki/000001.jpg\n",
            "/content/drive/My Drive/image_classification_traning/original_data/Horikita_Maki/000002.jpg\n",
            "/content/drive/My Drive/image_classification_traning/original_data/Horikita_Maki/000003.jpg\n",
            "/content/drive/My Drive/image_classification_traning/original_data/Horikita_Maki/000004.jpg\n",
            "/content/drive/My Drive/image_classification_traning/original_data/Horikita_Maki/000005.jpg\n",
            "/content/drive/My Drive/image_classification_traning/original_data/Horikita_Maki/000006.jpg\n",
            "/content/drive/My Drive/image_classification_traning/original_data/Horikita_Maki/000007.jpg\n",
            "/content/drive/My Drive/image_classification_traning/original_data/Horikita_Maki/000009.jpg\n",
            "/content/drive/My Drive/image_classification_traning/original_data/Horikita_Maki/000010.jpg\n",
            "/content/drive/My Drive/image_classification_traning/original_data/Horikita_Maki/000011.jpg\n",
            "/content/drive/My Drive/image_classification_traning/original_data/Horikita_Maki/000012.jpg\n",
            "/content/drive/My Drive/image_classification_traning/original_data/Horikita_Maki/000013.jpg\n",
            "/content/drive/My Drive/image_classification_traning/original_data/Horikita_Maki/000014.jpg\n",
            "/content/drive/My Drive/image_classification_traning/original_data/Horikita_Maki/000016.jpg\n",
            "/content/drive/My Drive/image_classification_traning/original_data/Horikita_Maki/000017.jpg\n",
            "/content/drive/My Drive/image_classification_traning/original_data/Horikita_Maki/000018.jpg\n",
            "/content/drive/My Drive/image_classification_traning/original_data/Horikita_Maki/000019.jpg\n",
            "/content/drive/My Drive/image_classification_traning/original_data/Horikita_Maki/000020.jpg\n",
            "Matsuoka_Mayu\n",
            "/content/drive/My Drive/image_classification_traning/original_data/Matsuoka_Mayu/000001.jpg\n",
            "/content/drive/My Drive/image_classification_traning/original_data/Matsuoka_Mayu/000003.jpg\n",
            "/content/drive/My Drive/image_classification_traning/original_data/Matsuoka_Mayu/000004.jpg\n",
            "/content/drive/My Drive/image_classification_traning/original_data/Matsuoka_Mayu/000005.jpg\n",
            "/content/drive/My Drive/image_classification_traning/original_data/Matsuoka_Mayu/000006.jpg\n",
            "/content/drive/My Drive/image_classification_traning/original_data/Matsuoka_Mayu/000007.jpg\n",
            "/content/drive/My Drive/image_classification_traning/original_data/Matsuoka_Mayu/000008.jpg\n",
            "/content/drive/My Drive/image_classification_traning/original_data/Matsuoka_Mayu/000009.jpg\n",
            "/content/drive/My Drive/image_classification_traning/original_data/Matsuoka_Mayu/000010.jpg\n",
            "/content/drive/My Drive/image_classification_traning/original_data/Matsuoka_Mayu/000011.jpg\n",
            "/content/drive/My Drive/image_classification_traning/original_data/Matsuoka_Mayu/000012.jpg\n",
            "/content/drive/My Drive/image_classification_traning/original_data/Matsuoka_Mayu/000013.jpg\n",
            "/content/drive/My Drive/image_classification_traning/original_data/Matsuoka_Mayu/000014.jpg\n",
            "/content/drive/My Drive/image_classification_traning/original_data/Matsuoka_Mayu/000015.jpg\n",
            "/content/drive/My Drive/image_classification_traning/original_data/Matsuoka_Mayu/000017.jpg\n",
            "/content/drive/My Drive/image_classification_traning/original_data/Matsuoka_Mayu/000018.jpg\n",
            "/content/drive/My Drive/image_classification_traning/original_data/Matsuoka_Mayu/000019.jpg\n",
            "Furuhata_Nao\n",
            "/content/drive/My Drive/image_classification_traning/original_data/Furuhata_Nao/000001.jpg\n",
            "/content/drive/My Drive/image_classification_traning/original_data/Furuhata_Nao/000002.jpg\n",
            "/content/drive/My Drive/image_classification_traning/original_data/Furuhata_Nao/000003.jpg\n",
            "/content/drive/My Drive/image_classification_traning/original_data/Furuhata_Nao/000004.jpg\n",
            "/content/drive/My Drive/image_classification_traning/original_data/Furuhata_Nao/000006.jpg\n",
            "/content/drive/My Drive/image_classification_traning/original_data/Furuhata_Nao/000007.jpg\n",
            "/content/drive/My Drive/image_classification_traning/original_data/Furuhata_Nao/000008.jpg\n",
            "/content/drive/My Drive/image_classification_traning/original_data/Furuhata_Nao/000009.jpg\n",
            "/content/drive/My Drive/image_classification_traning/original_data/Furuhata_Nao/000010.jpg\n",
            "/content/drive/My Drive/image_classification_traning/original_data/Furuhata_Nao/000011.jpg\n",
            "/content/drive/My Drive/image_classification_traning/original_data/Furuhata_Nao/000012.jpg\n",
            "/content/drive/My Drive/image_classification_traning/original_data/Furuhata_Nao/000013.jpg\n",
            "/content/drive/My Drive/image_classification_traning/original_data/Furuhata_Nao/000014.jpg\n",
            "/content/drive/My Drive/image_classification_traning/original_data/Furuhata_Nao/000016.jpg\n",
            "/content/drive/My Drive/image_classification_traning/original_data/Furuhata_Nao/000017.jpg\n",
            "/content/drive/My Drive/image_classification_traning/original_data/Furuhata_Nao/000018.jpg\n",
            "/content/drive/My Drive/image_classification_traning/original_data/Furuhata_Nao/000019.jpg\n",
            "/content/drive/My Drive/image_classification_traning/original_data/Furuhata_Nao/000020.jpg\n",
            "test_image\n",
            "/content/drive/My Drive/image_classification_traning/original_data/test_image/000008.jpg\n",
            "/content/drive/My Drive/image_classification_traning/original_data/test_image/000015 (1).jpg\n",
            "/content/drive/My Drive/image_classification_traning/original_data/test_image/000002.jpg\n",
            "/content/drive/My Drive/image_classification_traning/original_data/test_image/000016.jpg\n",
            "/content/drive/My Drive/image_classification_traning/original_data/test_image/000005.jpg\n",
            "/content/drive/My Drive/image_classification_traning/original_data/test_image/000015.jpg\n"
          ],
          "name": "stdout"
        }
      ]
    },
    {
      "cell_type": "code",
      "metadata": {
        "id": "FPdYNWwOn6AK",
        "colab_type": "code",
        "colab": {}
      },
      "source": [
        ""
      ],
      "execution_count": null,
      "outputs": []
    }
  ]
}