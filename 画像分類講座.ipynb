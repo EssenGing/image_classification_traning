{
  "nbformat": 4,
  "nbformat_minor": 0,
  "metadata": {
    "colab": {
      "name": "画像分類講座.ipynb",
      "provenance": [],
      "mount_file_id": "1_VvlIWgFDXMvMdUDfT8vk3B6tCUvv7ww",
      "authorship_tag": "ABX9TyNuDNoNP2L27CDJgJC1XYbl",
      "include_colab_link": true
    },
    "kernelspec": {
      "name": "python3",
      "display_name": "Python 3"
    }
  },
  "cells": [
    {
      "cell_type": "markdown",
      "metadata": {
        "id": "view-in-github",
        "colab_type": "text"
      },
      "source": [
        "<a href=\"https://colab.research.google.com/github/shirataki-takipon/image_classification_traning/blob/master/%E7%94%BB%E5%83%8F%E5%88%86%E9%A1%9E%E8%AC%9B%E5%BA%A7.ipynb\" target=\"_parent\"><img src=\"https://colab.research.google.com/assets/colab-badge.svg\" alt=\"Open In Colab\"/></a>"
      ]
    },
    {
      "cell_type": "code",
      "metadata": {
        "id": "KvZ3zAewFWGb",
        "colab_type": "code",
        "colab": {
          "base_uri": "https://localhost:8080/",
          "height": 258
        },
        "outputId": "ae6d7739-3920-41d7-dded-f5754d410b24"
      },
      "source": [
        "# ライブラリのインストール\n",
        "!pip install icrawler"
      ],
      "execution_count": 1,
      "outputs": [
        {
          "output_type": "stream",
          "text": [
            "Collecting icrawler\n",
            "  Downloading https://files.pythonhosted.org/packages/89/de/71d154b1fe181ee1a4afae5d10451856ef4689b3fd72d93cc55f31d2886a/icrawler-0.6.3-py2.py3-none-any.whl\n",
            "Requirement already satisfied: Pillow in /usr/local/lib/python3.6/dist-packages (from icrawler) (7.0.0)\n",
            "Requirement already satisfied: six>=1.10.0 in /usr/local/lib/python3.6/dist-packages (from icrawler) (1.15.0)\n",
            "Requirement already satisfied: requests>=2.9.1 in /usr/local/lib/python3.6/dist-packages (from icrawler) (2.23.0)\n",
            "Requirement already satisfied: lxml in /usr/local/lib/python3.6/dist-packages (from icrawler) (4.2.6)\n",
            "Requirement already satisfied: beautifulsoup4>=4.4.1 in /usr/local/lib/python3.6/dist-packages (from icrawler) (4.6.3)\n",
            "Requirement already satisfied: certifi>=2017.4.17 in /usr/local/lib/python3.6/dist-packages (from requests>=2.9.1->icrawler) (2020.6.20)\n",
            "Requirement already satisfied: idna<3,>=2.5 in /usr/local/lib/python3.6/dist-packages (from requests>=2.9.1->icrawler) (2.10)\n",
            "Requirement already satisfied: urllib3!=1.25.0,!=1.25.1,<1.26,>=1.21.1 in /usr/local/lib/python3.6/dist-packages (from requests>=2.9.1->icrawler) (1.24.3)\n",
            "Requirement already satisfied: chardet<4,>=3.0.2 in /usr/local/lib/python3.6/dist-packages (from requests>=2.9.1->icrawler) (3.0.4)\n",
            "Installing collected packages: icrawler\n",
            "Successfully installed icrawler-0.6.3\n"
          ],
          "name": "stdout"
        }
      ]
    },
    {
      "cell_type": "code",
      "metadata": {
        "id": "Y16V_hBRXB2j",
        "colab_type": "code",
        "colab": {
          "base_uri": "https://localhost:8080/",
          "height": 51
        },
        "outputId": "411d114e-7f92-44a2-a748-2f7b9b5553be"
      },
      "source": [
        "# 画像を保存するフォルダに移動\n",
        "# pathは適宜変える\n",
        "%cd drive/My Drive/image_classification_traning/original_data\n",
        "!pwd"
      ],
      "execution_count": 2,
      "outputs": [
        {
          "output_type": "stream",
          "text": [
            "/content/drive/My Drive/image_classification_traning/original_data\n",
            "/content/drive/My Drive/image_classification_traning/original_data\n"
          ],
          "name": "stdout"
        }
      ]
    },
    {
      "cell_type": "code",
      "metadata": {
        "id": "PIsJddIXXMHZ",
        "colab_type": "code",
        "colab": {
          "base_uri": "https://localhost:8080/",
          "height": 1000
        },
        "outputId": "adae8f09-8be1-4d48-856a-f325ca9f139c"
      },
      "source": [
        "#画像の取得\n",
        "\n",
        "from icrawler.builtin import BingImageCrawler\n",
        "crawler = BingImageCrawler(storage={\"root_dir\": \"Horikita_Maki\"})\n",
        "crawler.crawl(keyword=\"堀北真希\", max_num=20)\n",
        "\n",
        "from icrawler.builtin import BingImageCrawler\n",
        "crawler = BingImageCrawler(storage={\"root_dir\": \"Matsuoka_Mayu\"})\n",
        "crawler.crawl(keyword=\"松岡茉優\", max_num=20)\n",
        "\n",
        "from icrawler.builtin import BingImageCrawler\n",
        "crawler = BingImageCrawler(storage={\"root_dir\": \"Furuhata_Nao\"})\n",
        "crawler.crawl(keyword=\"古畑奈和\", max_num=20)"
      ],
      "execution_count": 4,
      "outputs": [
        {
          "output_type": "stream",
          "text": [
            "2020-08-26 06:10:46,535 - INFO - icrawler.crawler - start crawling...\n",
            "2020-08-26 06:10:46,537 - INFO - icrawler.crawler - starting 1 feeder threads...\n",
            "2020-08-26 06:10:46,544 - INFO - feeder - thread feeder-001 exit\n",
            "2020-08-26 06:10:46,545 - INFO - icrawler.crawler - starting 1 parser threads...\n",
            "2020-08-26 06:10:46,551 - INFO - icrawler.crawler - starting 1 downloader threads...\n",
            "2020-08-26 06:10:46,863 - INFO - parser - parsing result page https://www.bing.com/images/async?q=堀北真希&first=0\n",
            "2020-08-26 06:10:47,149 - INFO - downloader - image #1\thttp://pic8.nipic.com/20100623/2568996_083300830164_2.jpg\n",
            "2020-08-26 06:10:47,191 - INFO - downloader - image #2\thttp://pic8.nipic.com/20100623/2568996_083300619970_2.jpg\n",
            "2020-08-26 06:10:47,325 - INFO - downloader - image #3\thttp://photocdn.sohu.com/20110502/Img306716892.jpg\n",
            "2020-08-26 06:10:47,428 - INFO - downloader - image #4\thttp://pic8.nipic.com/20100623/2568996_083301102836_2.jpg\n",
            "2020-08-26 06:10:47,485 - INFO - downloader - image #5\thttp://pic8.nipic.com/20100623/2568996_083301157944_2.jpg\n",
            "2020-08-26 06:10:48,404 - INFO - downloader - image #6\thttp://himg2.huanqiu.com/attachment2010/2013/1106/20131106104641407.jpg\n",
            "2020-08-26 06:10:48,434 - INFO - downloader - image #7\thttp://pic8.nipic.com/20100623/2568996_083300720588_2.jpg\n",
            "2020-08-26 06:10:49,646 - INFO - downloader - image #8\thttp://pic7.nipic.com/20100521/4703632_085205748734_2.jpg\n",
            "2020-08-26 06:10:50,916 - INFO - downloader - image #9\thttp://pic6.nipic.com/20100320/4413062_014845615141_2.jpg\n",
            "2020-08-26 06:10:51,076 - INFO - downloader - image #10\thttp://azhai.me/wp-content/uploads/2019/04/026.jpg\n",
            "2020-08-26 06:10:51,504 - INFO - downloader - image #11\thttp://pic8.nipic.com/20100623/2568996_083300540213_2.jpg\n",
            "2020-08-26 06:10:53,875 - INFO - downloader - image #12\thttp://image.tpwang.net/image/堀/artist-堀北真希/堀北真希105001.jpg\n",
            "2020-08-26 06:10:54,691 - INFO - downloader - image #13\thttps://cdn1-manfashion.techbang.com/system/images/2465/original/592f47bbe29761ddb1422d94177977c6.jpg\n",
            "2020-08-26 06:10:54,723 - INFO - downloader - image #14\thttp://pic8.nipic.com/20100623/2568996_083300768965_2.jpg\n",
            "2020-08-26 06:10:54,753 - INFO - downloader - image #15\thttp://photocdn.sohu.com/20081126/Img260861711.jpg\n",
            "2020-08-26 06:10:56,191 - INFO - downloader - image #16\thttps://image.tpwang.com/image/堀/artist-堀北真希/堀北真希67103.jpg\n",
            "2020-08-26 06:10:56,295 - INFO - downloader - image #17\thttp://img31.mtime.cn/CMS/News/2015/08/23/110524.11796562_620X620.jpg\n",
            "2020-08-26 06:10:56,323 - INFO - downloader - image #18\thttp://pic7.nipic.com/20100521/4703632_085206747544_2.jpg\n",
            "2020-08-26 06:10:57,685 - INFO - downloader - image #19\thttp://img1.ahtv.cn/material/news/img/2015/02/fadea85df9a3ba97db0675811017e090.jpg\n",
            "2020-08-26 06:10:57,714 - INFO - downloader - image #20\thttp://pic8.nipic.com/20100623/2568996_083300747758_2.jpg\n",
            "2020-08-26 06:10:57,739 - INFO - downloader - downloaded images reach max num, thread downloader-001 is ready to exit\n",
            "2020-08-26 06:10:57,740 - INFO - downloader - thread downloader-001 exit\n",
            "2020-08-26 06:10:58,571 - INFO - icrawler.crawler - Crawling task done!\n",
            "2020-08-26 06:10:58,573 - INFO - icrawler.crawler - start crawling...\n",
            "2020-08-26 06:10:58,576 - INFO - icrawler.crawler - starting 1 feeder threads...\n",
            "2020-08-26 06:10:58,579 - INFO - feeder - thread feeder-001 exit\n",
            "2020-08-26 06:10:58,580 - INFO - icrawler.crawler - starting 1 parser threads...\n",
            "2020-08-26 06:10:58,589 - INFO - icrawler.crawler - starting 1 downloader threads...\n",
            "2020-08-26 06:10:58,720 - INFO - parser - downloaded image reached max num, thread parser-001 is ready to exit\n",
            "2020-08-26 06:10:58,724 - INFO - parser - thread parser-001 exit\n",
            "2020-08-26 06:10:59,021 - INFO - parser - parsing result page https://www.bing.com/images/async?q=松岡茉優&first=0\n",
            "2020-08-26 06:10:59,520 - INFO - downloader - image #1\thttps://i2.kknews.cc/SIG=1esi7kg/ctp-vzntr/1526708364728pnpsos4s8n.jpg\n",
            "2020-08-26 06:10:59,737 - INFO - downloader - image #2\thttp://livedoor.blogimg.jp/girls_girls_girls/imgs/6/e/6e763cfd.jpg\n",
            "2020-08-26 06:10:59,857 - INFO - downloader - image #3\thttps://img.cinematoday.jp/a/N0097174/_size_1200x/_v_1513933929/main.jpg\n",
            "2020-08-26 06:11:00,566 - INFO - downloader - image #4\thttp://i.epochtimes.com/assets/uploads/2019/12/1226-2-600x400.jpg\n",
            "2020-08-26 06:11:01,832 - INFO - downloader - image #5\thttps://www.elle.com.hk/var/ellehk/storage/images/celebrity/feature/mayu-matsuoka/28421071-1-chi-HK/90_img_885_590.jpg\n",
            "2020-08-26 06:11:01,911 - INFO - downloader - image #6\thttp://i0.sinaimg.cn/ent/2014/0202/U4350P28DT20140202111437.jpg\n",
            "2020-08-26 06:11:03,295 - INFO - downloader - image #7\thttp://girlsmood.com/web/wp-content/uploads/2018/07/LowGettyImages-958298348_img_885_590-266x300.jpg\n",
            "2020-08-26 06:11:03,340 - INFO - downloader - image #8\thttp://livedoor.blogimg.jp/cruise00/imgs/f/9/f96016b5.jpg\n",
            "2020-08-26 06:11:03,383 - INFO - downloader - image #9\thttp://livedoor.blogimg.jp/geinoueroch/imgs/b/d/bd80c453.jpg\n",
            "2020-08-26 06:11:03,551 - INFO - downloader - image #10\thttp://blog-imgs-72.fc2.com/o/o/i/ooiotakara/20150107_1114_005.jpg\n",
            "2020-08-26 06:11:03,603 - INFO - downloader - image #11\thttps://i.ytimg.com/vi/plJpTREGPeo/maxresdefault.jpg\n",
            "2020-08-26 06:11:03,765 - INFO - downloader - image #12\thttps://pbs.twimg.com/media/C2-ItOcUsAIC0pu.jpg\n",
            "2020-08-26 06:11:04,099 - INFO - downloader - image #13\thttp://saisin-news.com/wp-content/uploads/2014/07/matuokamayu.mizugi.jpg\n",
            "2020-08-26 06:11:04,264 - INFO - downloader - image #14\thttps://cdn2.ettoday.net/images/3168/3168708.jpg\n",
            "2020-08-26 06:11:05,016 - INFO - downloader - image #15\thttps://movies.yahoo.com.tw/x/r/w290/i/o/production/names/July2018/bLIcYqMd4B6WrmHcK7VD-1800x1200.jpg\n",
            "2020-08-26 06:11:05,044 - INFO - downloader - image #16\thttps://i.ytimg.com/vi/YzzMIknncSQ/maxresdefault.jpg\n",
            "2020-08-26 06:11:05,093 - INFO - downloader - image #17\thttps://i.pinimg.com/originals/52/4b/7e/524b7e2c8489589ba42b123566506944.jpg\n",
            "2020-08-26 06:11:05,438 - INFO - downloader - image #18\thttps://i.pinimg.com/originals/5a/8b/33/5a8b3388a169bfbe0f9b7ad203801943.jpg\n",
            "2020-08-26 06:11:06,589 - INFO - downloader - image #19\thttps://img.moegirl.org/common/2/26/%E6%9D%BE%E5%86%88%E8%8C%89%E4%BC%98.jpg\n",
            "2020-08-26 06:11:06,642 - INFO - downloader - image #20\thttps://i1.kknews.cc/SIG=rha0di/ctp-vzntr/153373395673378pq00ps44.jpg\n",
            "2020-08-26 06:11:07,072 - INFO - downloader - downloaded images reach max num, thread downloader-001 is ready to exit\n",
            "2020-08-26 06:11:07,073 - INFO - downloader - thread downloader-001 exit\n",
            "2020-08-26 06:11:07,449 - INFO - parser - downloaded image reached max num, thread parser-001 is ready to exit\n",
            "2020-08-26 06:11:07,450 - INFO - parser - thread parser-001 exit\n",
            "2020-08-26 06:11:07,604 - INFO - icrawler.crawler - Crawling task done!\n",
            "2020-08-26 06:11:07,621 - INFO - icrawler.crawler - start crawling...\n",
            "2020-08-26 06:11:07,625 - INFO - icrawler.crawler - starting 1 feeder threads...\n",
            "2020-08-26 06:11:07,627 - INFO - feeder - thread feeder-001 exit\n",
            "2020-08-26 06:11:07,629 - INFO - icrawler.crawler - starting 1 parser threads...\n",
            "2020-08-26 06:11:07,633 - INFO - icrawler.crawler - starting 1 downloader threads...\n",
            "2020-08-26 06:11:07,979 - INFO - parser - parsing result page https://www.bing.com/images/async?q=古畑奈和&first=0\n",
            "2020-08-26 06:11:08,441 - INFO - downloader - image #1\thttp://p4.qhmsg.com/dr/270_500_/t01ab55e4adeaa713af.jpg\n",
            "2020-08-26 06:11:08,855 - INFO - downloader - image #2\thttp://www.sinaimg.cn/dy/slidenews/4_img/2014_30/704_1370024_375631.jpg\n",
            "2020-08-26 06:11:08,893 - ERROR - downloader - Response status code 503, file http://n2.hk/d/attachments/day_180524/20180524_3c47b193308aba85420bcUDhAFjJdGfz.jpg\n",
            "2020-08-26 06:11:09,256 - INFO - downloader - image #3\thttps://www.wanning1.com/uploads/allimg/c200712/159454P41a0-1F60.jpg\n",
            "2020-08-26 06:11:09,608 - ERROR - downloader - Response status code 403, file https://img.xsnvshen.com/album/17916/14168/027.jpg\n",
            "2020-08-26 06:11:11,044 - INFO - downloader - image #4\thttps://i.imgur.com/IQo6j1w.jpg\n",
            "2020-08-26 06:11:11,084 - ERROR - downloader - Response status code 503, file http://n2.hk/d/attachments/day_180524/20180524_127dff1f93edbd56f37bCTsGkohGDWaO.jpg\n",
            "2020-08-26 06:11:11,110 - ERROR - downloader - Response status code 503, file http://n2.hk/d/attachments/day_180524/20180524_9bcdc46a5c9722ad8ffd5CrABq6CIiNQ.jpg\n",
            "2020-08-26 06:11:11,178 - INFO - downloader - image #5\thttps://img.ruten.com.tw/s2/c/32/c0/21838674620096_672.jpg\n",
            "2020-08-26 06:11:11,209 - ERROR - downloader - Response status code 503, file http://n2.hk/d/attachments/day_170808/20170808_1e46b4c3fa0b160312dddVr37gwzda9c.jpg\n",
            "2020-08-26 06:11:13,100 - INFO - downloader - image #6\thttps://img.onvshen.com:85/gallery/17916/14213/011.jpg\n",
            "2020-08-26 06:11:13,204 - ERROR - downloader - Exception caught when downloading file https://ii.hywly.com/a/1/14642/12.jpg, error: HTTPSConnectionPool(host='ii.hywly.com', port=443): Max retries exceeded with url: /a/1/14642/12.jpg (Caused by NewConnectionError('<urllib3.connection.VerifiedHTTPSConnection object at 0x7f580b6c4518>: Failed to establish a new connection: [Errno -2] Name or service not known',)), remaining retry times: 2\n",
            "2020-08-26 06:11:13,209 - ERROR - downloader - Exception caught when downloading file https://ii.hywly.com/a/1/14642/12.jpg, error: HTTPSConnectionPool(host='ii.hywly.com', port=443): Max retries exceeded with url: /a/1/14642/12.jpg (Caused by NewConnectionError('<urllib3.connection.VerifiedHTTPSConnection object at 0x7f580b6b02e8>: Failed to establish a new connection: [Errno -2] Name or service not known',)), remaining retry times: 1\n",
            "2020-08-26 06:11:13,215 - ERROR - downloader - Exception caught when downloading file https://ii.hywly.com/a/1/14642/12.jpg, error: HTTPSConnectionPool(host='ii.hywly.com', port=443): Max retries exceeded with url: /a/1/14642/12.jpg (Caused by NewConnectionError('<urllib3.connection.VerifiedHTTPSConnection object at 0x7f580b6b0048>: Failed to establish a new connection: [Errno -2] Name or service not known',)), remaining retry times: 0\n",
            "2020-08-26 06:11:13,481 - INFO - downloader - image #7\thttp://c.hiphotos.baidu.com/baike/g%3D0%3Bw%3D250/sign=c9e980b7cafc1e17edbf893a3dadc436/9c16fdfaaf51f3de3ecf8ec591eef01f3a297915.jpg\n",
            "2020-08-26 06:11:13,522 - ERROR - downloader - Response status code 503, file http://n2.hk/d/attachments/day_180524/20180524_3dbe5fbb495b0b953280dDZLBsOfupkM.jpg\n",
            "2020-08-26 06:11:13,529 - ERROR - downloader - Exception caught when downloading file https://ii.hywly.com/t/3021.jpg, error: HTTPSConnectionPool(host='ii.hywly.com', port=443): Max retries exceeded with url: /t/3021.jpg (Caused by NewConnectionError('<urllib3.connection.VerifiedHTTPSConnection object at 0x7f580b6c8710>: Failed to establish a new connection: [Errno -2] Name or service not known',)), remaining retry times: 2\n",
            "2020-08-26 06:11:13,535 - ERROR - downloader - Exception caught when downloading file https://ii.hywly.com/t/3021.jpg, error: HTTPSConnectionPool(host='ii.hywly.com', port=443): Max retries exceeded with url: /t/3021.jpg (Caused by NewConnectionError('<urllib3.connection.VerifiedHTTPSConnection object at 0x7f580b6c8860>: Failed to establish a new connection: [Errno -2] Name or service not known',)), remaining retry times: 1\n",
            "2020-08-26 06:11:13,542 - ERROR - downloader - Exception caught when downloading file https://ii.hywly.com/t/3021.jpg, error: HTTPSConnectionPool(host='ii.hywly.com', port=443): Max retries exceeded with url: /t/3021.jpg (Caused by NewConnectionError('<urllib3.connection.VerifiedHTTPSConnection object at 0x7f580b6c8710>: Failed to establish a new connection: [Errno -2] Name or service not known',)), remaining retry times: 0\n",
            "2020-08-26 06:11:13,585 - INFO - downloader - image #8\thttp://ext.pimg.tw/albertayu773/1389958541-3961503772.jpg\n",
            "2020-08-26 06:11:13,737 - INFO - downloader - image #9\thttp://cdn2.ettoday.net/images/1198/1198692.jpg\n",
            "2020-08-26 06:11:14,165 - INFO - downloader - image #10\thttp://livedoor.blogimg.jp/akb48images/imgs/3/2/324c6327.jpg\n",
            "2020-08-26 06:11:14,277 - INFO - downloader - image #11\thttp://www.sinaimg.cn/dy/slidenews/4_img/2014_30/704_1370028_667997.jpg\n",
            "2020-08-26 06:11:14,315 - ERROR - downloader - Response status code 503, file http://n2.hk/d/attachments/day_180524/20180524_b15b1bb3ad4a4a1a67b4lB62B4PdKA5F.jpg\n",
            "2020-08-26 06:11:14,844 - INFO - downloader - image #12\thttp://38.media.tumblr.com/c7b2ae58944fab3e414714f4a0890cf0/tumblr_n9xjg2oZE11rckaavo5_1280.jpg\n",
            "2020-08-26 06:11:15,159 - ERROR - downloader - Response status code 403, file http://img.xsnvshen.com/album/17916/14168/028.jpg\n",
            "2020-08-26 06:11:15,177 - INFO - downloader - image #13\thttp://3.bp.blogspot.com/-RRmXRtDeO5E/U3SzOkZQb0I/AAAAAAAAqqs/0HtB9L7kNJE/s1600/Furuhata+Nao+%E5%8F%A4%E7%95%91%E5%A5%88%E5%92%8C+Weekly+Playboy+April+2014+Photos+3.jpg\n",
            "2020-08-26 06:11:15,526 - INFO - downloader - image #14\thttps://i.pinimg.com/736x/71/c3/74/71c37402d9e4a2f2b382fe3863e434af.jpg\n",
            "2020-08-26 06:11:15,928 - INFO - downloader - image #15\thttps://stat.ameba.jp/user_images/20170824/23/ske48official/0f/4b/j/o0480064014012472370.jpg\n",
            "2020-08-26 06:11:16,010 - INFO - downloader - image #16\thttp://www.sinaimg.cn/dy/slidenews/4_img/2014_30/704_1370026_482438.jpg\n",
            "2020-08-26 06:11:17,230 - INFO - downloader - image #17\thttp://222.186.12.239:10010/gnbos_150311/004.jpg\n",
            "2020-08-26 06:11:17,498 - INFO - downloader - image #18\thttps://www.yhszo.com/wp-content/uploads/2020/02/furuhata_nao_010-500x626.jpg\n",
            "2020-08-26 06:11:17,602 - ERROR - downloader - Exception caught when downloading file https://ii.hywly.com/a/1/16387/15.jpg, error: HTTPSConnectionPool(host='ii.hywly.com', port=443): Max retries exceeded with url: /a/1/16387/15.jpg (Caused by NewConnectionError('<urllib3.connection.VerifiedHTTPSConnection object at 0x7f580b6b1780>: Failed to establish a new connection: [Errno -2] Name or service not known',)), remaining retry times: 2\n",
            "2020-08-26 06:11:17,610 - ERROR - downloader - Exception caught when downloading file https://ii.hywly.com/a/1/16387/15.jpg, error: HTTPSConnectionPool(host='ii.hywly.com', port=443): Max retries exceeded with url: /a/1/16387/15.jpg (Caused by NewConnectionError('<urllib3.connection.VerifiedHTTPSConnection object at 0x7f580b68f1d0>: Failed to establish a new connection: [Errno -2] Name or service not known',)), remaining retry times: 1\n",
            "2020-08-26 06:11:17,617 - ERROR - downloader - Exception caught when downloading file https://ii.hywly.com/a/1/16387/15.jpg, error: HTTPSConnectionPool(host='ii.hywly.com', port=443): Max retries exceeded with url: /a/1/16387/15.jpg (Caused by NewConnectionError('<urllib3.connection.VerifiedHTTPSConnection object at 0x7f580b6c8b38>: Failed to establish a new connection: [Errno -2] Name or service not known',)), remaining retry times: 0\n",
            "2020-08-26 06:11:17,673 - INFO - downloader - image #19\thttp://livedoor.blogimg.jp/ske48pic/imgs/4/f/4f8c69ad.jpg\n",
            "2020-08-26 06:11:17,937 - INFO - parser - no more page urls for thread parser-001 to parse\n",
            "2020-08-26 06:11:17,938 - INFO - parser - thread parser-001 exit\n",
            "2020-08-26 06:11:18,018 - INFO - downloader - image #20\thttps://i.imgur.com/M9g92lt.jpg\n",
            "2020-08-26 06:11:23,028 - INFO - downloader - no more download task for thread downloader-001\n",
            "2020-08-26 06:11:23,029 - INFO - downloader - thread downloader-001 exit\n",
            "2020-08-26 06:11:23,653 - INFO - icrawler.crawler - Crawling task done!\n"
          ],
          "name": "stderr"
        }
      ]
    },
    {
      "cell_type": "code",
      "metadata": {
        "id": "dH2EkD06hDiU",
        "colab_type": "code",
        "colab": {}
      },
      "source": [
        ""
      ],
      "execution_count": null,
      "outputs": []
    }
  ]
}