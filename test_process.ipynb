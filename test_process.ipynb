{
  "nbformat": 4,
  "nbformat_minor": 0,
  "metadata": {
    "colab": {
      "name": "test_process.ipynb",
      "provenance": [],
      "mount_file_id": "1-Pww3eiqXB0Evbwmr-0-dvGYMHJhA_VT",
      "authorship_tag": "ABX9TyPItjk/5dTjTboEEbG2z0yq",
      "include_colab_link": true
    },
    "kernelspec": {
      "name": "python3",
      "display_name": "Python 3"
    }
  },
  "cells": [
    {
      "cell_type": "markdown",
      "metadata": {
        "id": "view-in-github",
        "colab_type": "text"
      },
      "source": [
        "<a href=\"https://colab.research.google.com/github/shirataki-takipon/image_classification_traning/blob/master/test_process.ipynb\" target=\"_parent\"><img src=\"https://colab.research.google.com/assets/colab-badge.svg\" alt=\"Open In Colab\"/></a>"
      ]
    },
    {
      "cell_type": "code",
      "metadata": {
        "id": "ImkAbHc7o9oq",
        "colab_type": "code",
        "colab": {}
      },
      "source": [
        "import sys\n",
        "sys.path.append('/content/drive/My Drive/image_classification_traning')\n",
        "import ic_module as ic\n",
        "import os.path as op"
      ],
      "execution_count": 1,
      "outputs": []
    },
    {
      "cell_type": "code",
      "metadata": {
        "id": "K-jZIyeRpFRh",
        "colab_type": "code",
        "colab": {
          "base_uri": "https://localhost:8080/",
          "height": 615
        },
        "outputId": "bae0c3ee-da6a-4327-9876-19cdf07ab219"
      },
      "source": [
        "while True:\n",
        "    while True:\n",
        "        imgname = input(\"\\n>> 入力したい画像ファイル(「END」で終了) ： \")\n",
        "        if op.isfile(imgname) or imgname == \"END\":\n",
        "            break\n",
        "        print(\">> そのファイルは存在しません！\")\n",
        "    if imgname == \"END\":\n",
        "        break\n",
        "\n",
        "    # 関数実行\n",
        "    ic.TestProcess(imgname)"
      ],
      "execution_count": 2,
      "outputs": [
        {
          "output_type": "stream",
          "text": [
            "\n",
            ">> 入力したい画像ファイル(「END」で終了) ： /content/drive/My Drive/image_classification_traning/original_data/test_image/000002.jpg\n",
            ">> 計算結果↓\n",
            "[[8.6751446e-05 9.9970180e-01 2.1145448e-04]]\n",
            ">> この画像は「松岡茉優」です。\n",
            "\n",
            ">> 入力したい画像ファイル(「END」で終了) ： /content/drive/My Drive/image_classification_traning/original_data/test_image/000005.jpg\n",
            ">> 計算結果↓\n",
            "[[9.8596710e-01 1.4024942e-02 7.9689289e-06]]\n",
            ">> この画像は「堀北真希」です。\n",
            "\n",
            ">> 入力したい画像ファイル(「END」で終了) ： /content/drive/My Drive/image_classification_traning/original_data/test_image/000008.jpg\n",
            ">> 計算結果↓\n",
            "[[9.9803180e-01 1.9203854e-03 4.7839614e-05]]\n",
            ">> この画像は「堀北真希」です。\n",
            "\n",
            ">> 入力したい画像ファイル(「END」で終了) ： /content/drive/My Drive/image_classification_traning/original_data/test_image/000015 (1).jpg\n",
            ">> 計算結果↓\n",
            "[[9.7750163e-01 3.0323719e-05 2.2468047e-02]]\n",
            ">> この画像は「堀北真希」です。\n",
            "\n",
            ">> 入力したい画像ファイル(「END」で終了) ： /content/drive/My Drive/image_classification_traning/original_data/test_image/000015.jpg\n",
            "WARNING:tensorflow:5 out of the last 5 calls to <function Model.make_predict_function.<locals>.predict_function at 0x7f4c24bef840> triggered tf.function retracing. Tracing is expensive and the excessive number of tracings could be due to (1) creating @tf.function repeatedly in a loop, (2) passing tensors with different shapes, (3) passing Python objects instead of tensors. For (1), please define your @tf.function outside of the loop. For (2), @tf.function has experimental_relax_shapes=True option that relaxes argument shapes that can avoid unnecessary retracing. For (3), please refer to https://www.tensorflow.org/tutorials/customization/performance#python_or_tensor_args and https://www.tensorflow.org/api_docs/python/tf/function for  more details.\n",
            ">> 計算結果↓\n",
            "[[9.9190170e-01 8.0279307e-03 7.0378155e-05]]\n",
            ">> この画像は「堀北真希」です。\n",
            "\n",
            ">> 入力したい画像ファイル(「END」で終了) ： /content/drive/My Drive/image_classification_traning/original_data/test_image/000016.jpg\n",
            "WARNING:tensorflow:6 out of the last 6 calls to <function Model.make_predict_function.<locals>.predict_function at 0x7f4c26008488> triggered tf.function retracing. Tracing is expensive and the excessive number of tracings could be due to (1) creating @tf.function repeatedly in a loop, (2) passing tensors with different shapes, (3) passing Python objects instead of tensors. For (1), please define your @tf.function outside of the loop. For (2), @tf.function has experimental_relax_shapes=True option that relaxes argument shapes that can avoid unnecessary retracing. For (3), please refer to https://www.tensorflow.org/tutorials/customization/performance#python_or_tensor_args and https://www.tensorflow.org/api_docs/python/tf/function for  more details.\n",
            ">> 計算結果↓\n",
            "[[9.9990487e-01 8.4310668e-05 1.0852305e-05]]\n",
            ">> この画像は「堀北真希」です。\n",
            "\n",
            ">> 入力したい画像ファイル(「END」で終了) ： END\n"
          ],
          "name": "stdout"
        }
      ]
    },
    {
      "cell_type": "code",
      "metadata": {
        "id": "R1gc0sZEpUPu",
        "colab_type": "code",
        "colab": {}
      },
      "source": [
        ""
      ],
      "execution_count": null,
      "outputs": []
    }
  ]
}